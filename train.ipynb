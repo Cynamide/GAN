{
 "cells": [
  {
   "cell_type": "markdown",
   "metadata": {
    "papermill": {
     "duration": 0.007755,
     "end_time": "2020-09-07T08:25:54.741821",
     "exception": false,
     "start_time": "2020-09-07T08:25:54.734066",
     "status": "completed"
    },
    "tags": []
   },
   "source": [
    "Importing Dependencies\n"
   ]
  },
  {
   "cell_type": "code",
   "execution_count": 1,
   "metadata": {
    "_cell_guid": "79c7e3d0-c299-4dcb-8224-4455121ee9b0",
    "_uuid": "d629ff2d2480ee46fbb7e2d37f6b5fab8052498a",
    "collapsed": true,
    "execution": {
     "iopub.execute_input": "2020-09-07T08:25:54.767035Z",
     "iopub.status.busy": "2020-09-07T08:25:54.766228Z",
     "iopub.status.idle": "2020-09-07T08:26:00.316369Z",
     "shell.execute_reply": "2020-09-07T08:26:00.317517Z"
    },
    "papermill": {
     "duration": 5.569201,
     "end_time": "2020-09-07T08:26:00.317722",
     "exception": false,
     "start_time": "2020-09-07T08:25:54.748521",
     "status": "completed"
    },
    "tags": []
   },
   "outputs": [],
   "source": [
    "import tensorflow as tf\n",
    "from tensorflow.keras.layers import Input, Reshape, Dropout, Dense \n",
    "from tensorflow.keras.layers import Flatten, BatchNormalization\n",
    "from tensorflow.keras.layers import Activation, ZeroPadding2D\n",
    "from tensorflow.keras.layers import LeakyReLU\n",
    "from tensorflow.keras.layers import UpSampling2D, Conv2D\n",
    "from tensorflow.keras.models import Sequential, Model, load_model\n",
    "from tensorflow.keras.layers import GaussianNoise\n",
    "from tensorflow.keras.layers import Conv2DTranspose\n",
    "from tensorflow.keras.optimizers import Adam\n",
    "from tensorflow.keras import initializers\n",
    "from tensorflow.keras.constraints import MinMaxNorm\n",
    "import numpy as np\n",
    "from numpy import random\n",
    "\n",
    "from PIL import Image\n",
    "from tqdm import tqdm\n",
    "import os \n",
    "import time\n",
    "import matplotlib.pyplot as plt\n",
    "from tensorflow.keras.mixed_precision import experimental as mixed_precision\n",
    "\n",
    "#format time into something more readable\n",
    "def hms_string(sec_elapsed):\n",
    "    h = int(sec_elapsed / (60 * 60))\n",
    "    m = int((sec_elapsed % (60 * 60)) / 60)\n",
    "    s = sec_elapsed % 60\n",
    "    return \"{}:{:>02}:{:>05.2f}\".format(h, m, s)\n",
    "\n",
    "#policy = mixed_precision.Policy('mixed_float16')\n",
    "#mixed_precision.set_policy(policy)"
   ]
  },
  {
   "cell_type": "markdown",
   "metadata": {
    "papermill": {
     "duration": 0.011453,
     "end_time": "2020-09-07T08:26:00.338814",
     "exception": false,
     "start_time": "2020-09-07T08:26:00.327361",
     "status": "completed"
    },
    "tags": []
   },
   "source": [
    "Defining Parameters"
   ]
  },
  {
   "cell_type": "code",
   "execution_count": 2,
   "metadata": {
    "execution": {
     "iopub.execute_input": "2020-09-07T08:26:00.365165Z",
     "iopub.status.busy": "2020-09-07T08:26:00.364442Z",
     "iopub.status.idle": "2020-09-07T08:26:00.368670Z",
     "shell.execute_reply": "2020-09-07T08:26:00.369288Z"
    },
    "papermill": {
     "duration": 0.021973,
     "end_time": "2020-09-07T08:26:00.369465",
     "exception": false,
     "start_time": "2020-09-07T08:26:00.347492",
     "status": "completed"
    },
    "tags": []
   },
   "outputs": [],
   "source": [
    "generate_res = (64,64)\n",
    "PHOTO_PATH = \"/kaggle/input/anime-faces/data/data\"\n",
    "DATA_PATH = \"/kaggle/working/training_64_64.npy\"#'/kaggle/input/animefacedataset/images'\n",
    "MODEL_PATH = \"/kaggle/working/\"\n",
    "SAVE_PATH = '/kaggle/working/'\n",
    "SEED_SIZE = 128\n",
    "BATCH_SIZE = 128\n",
    "EPOCHS = 50 ## Increase this for better generated image \n",
    "img_width = 64\n",
    "img_height = 64\n",
    "channels = 3\n",
    "n_critic = 5\n",
    "learning_rate = 1e-4\n",
    "beta1 = 0\n",
    "beta2 = 0.9"
   ]
  },
  {
   "cell_type": "markdown",
   "metadata": {
    "papermill": {
     "duration": 0.008668,
     "end_time": "2020-09-07T08:26:00.386950",
     "exception": false,
     "start_time": "2020-09-07T08:26:00.378282",
     "status": "completed"
    },
    "tags": []
   },
   "source": [
    "First we'll need to convert the images to numpy arrays and store as training_64_64.npy"
   ]
  },
  {
   "cell_type": "code",
   "execution_count": 3,
   "metadata": {
    "execution": {
     "iopub.execute_input": "2020-09-07T08:26:00.413814Z",
     "iopub.status.busy": "2020-09-07T08:26:00.412940Z",
     "iopub.status.idle": "2020-09-07T08:26:59.180014Z",
     "shell.execute_reply": "2020-09-07T08:26:59.179392Z"
    },
    "papermill": {
     "duration": 58.784436,
     "end_time": "2020-09-07T08:26:59.180125",
     "exception": false,
     "start_time": "2020-09-07T08:26:00.395689",
     "status": "completed"
    },
    "tags": []
   },
   "outputs": [
    {
     "name": "stderr",
     "output_type": "stream",
     "text": [
      "100%|██████████| 21551/21551 [00:56<00:00, 379.04it/s]\n"
     ]
    },
    {
     "name": "stdout",
     "output_type": "stream",
     "text": [
      "(21551, 64, 64, 3)\n"
     ]
    }
   ],
   "source": [
    "training_data = []\n",
    "for filename in tqdm(os.listdir(PHOTO_PATH)):\n",
    "    path = os.path.join(PHOTO_PATH,filename)\n",
    "    image = Image.open(path).resize((img_width,\n",
    "            img_height),Image.ANTIALIAS)\n",
    "    training_data.append(np.asarray(image))\n",
    "training_data = np.reshape(training_data,(-1,img_width,\n",
    "            img_height,channels))\n",
    "training_data = training_data.astype(np.float32)\n",
    "training_data = training_data / 127.5 - 1 #images should be normalised to [-1,1]\n",
    "print(np.shape(training_data))\n",
    "np.save(\"training_64_64.npy\",training_data) #This gets saved in /kaggle/working/"
   ]
  },
  {
   "cell_type": "markdown",
   "metadata": {
    "papermill": {
     "duration": 0.03436,
     "end_time": "2020-09-07T08:26:59.249701",
     "exception": false,
     "start_time": "2020-09-07T08:26:59.215341",
     "status": "completed"
    },
    "tags": []
   },
   "source": [
    "Define Generator Model"
   ]
  },
  {
   "cell_type": "code",
   "execution_count": 4,
   "metadata": {
    "execution": {
     "iopub.execute_input": "2020-09-07T08:26:59.329442Z",
     "iopub.status.busy": "2020-09-07T08:26:59.328826Z",
     "iopub.status.idle": "2020-09-07T08:26:59.333261Z",
     "shell.execute_reply": "2020-09-07T08:26:59.332720Z"
    },
    "papermill": {
     "duration": 0.049811,
     "end_time": "2020-09-07T08:26:59.333363",
     "exception": false,
     "start_time": "2020-09-07T08:26:59.283552",
     "status": "completed"
    },
    "tags": []
   },
   "outputs": [],
   "source": [
    "def build_generator(seed):\n",
    "    model = Sequential()\n",
    "    model.add(Conv2DTranspose(512, input_shape = (1,1,seed), kernel_size=4, strides=1, padding='valid',use_bias=False))\n",
    "    model.add(Activation(\"relu\"))\n",
    "    \n",
    "    #model.add(Dropout(0.5))\n",
    "    model.add(Conv2DTranspose(256, kernel_size=4, strides=2, padding='same',use_bias=False))\n",
    "    #model.add(BatchNormalization(momentum=0.8))\n",
    "    model.add(Activation(\"relu\"))\n",
    "    \n",
    "    #model.add(Dropout(0.5))\n",
    "    model.add(Conv2DTranspose(128, kernel_size=4, strides=2, padding='same',use_bias=False))\n",
    "    #model.add(BatchNormalization(momentum=0.8))\n",
    "    model.add(Activation(\"relu\"))\n",
    "\n",
    "    #model.add(Dropout(0.5))\n",
    "    model.add(Conv2DTranspose(64, kernel_size=4, strides=2, padding='same',use_bias=False))\n",
    "    #model.add(BatchNormalization(momentum=0.8))\n",
    "    model.add(Activation(\"relu\"))\n",
    "\n",
    "    #model.add(Dropout(0.5))\n",
    "    model.add(Conv2DTranspose(3, kernel_size=4, strides=2, padding='same',use_bias=False))\n",
    "    model.add(Activation(\"tanh\", dtype = 'float32'))\n",
    "    model.summary()\n",
    "    return model\n"
   ]
  },
  {
   "cell_type": "markdown",
   "metadata": {
    "papermill": {
     "duration": 0.033427,
     "end_time": "2020-09-07T08:26:59.400978",
     "exception": false,
     "start_time": "2020-09-07T08:26:59.367551",
     "status": "completed"
    },
    "tags": []
   },
   "source": [
    "Define Descriminator model"
   ]
  },
  {
   "cell_type": "code",
   "execution_count": 5,
   "metadata": {
    "execution": {
     "iopub.execute_input": "2020-09-07T08:26:59.480198Z",
     "iopub.status.busy": "2020-09-07T08:26:59.479516Z",
     "iopub.status.idle": "2020-09-07T08:26:59.483110Z",
     "shell.execute_reply": "2020-09-07T08:26:59.482611Z"
    },
    "papermill": {
     "duration": 0.048804,
     "end_time": "2020-09-07T08:26:59.483231",
     "exception": false,
     "start_time": "2020-09-07T08:26:59.434427",
     "status": "completed"
    },
    "tags": []
   },
   "outputs": [],
   "source": [
    "def build_discriminator(input_size):\n",
    "    \n",
    "    model = Sequential()\n",
    "\n",
    "    model.add(Conv2D(64, kernel_size=4, strides=2, input_shape=input_size, padding=\"same\"))\n",
    "    #model.add(GaussianNoise(1))\n",
    "    model.add(LeakyReLU(alpha=0.2))\n",
    "    \n",
    "    #model.add(Dropout(0.25))\n",
    "    model.add(Conv2D(128, kernel_size=4, strides=2, padding=\"same\",use_bias=False))\n",
    "    #model.add(GaussianNoise(1))\n",
    "    #model.add(BatchNormalization(momentum=0.8))\n",
    "    model.add(LeakyReLU(alpha=0.2))\n",
    "    \n",
    "    #model.add(Dropout(0.25))\n",
    "    model.add(Conv2D(256, kernel_size=4, strides=2, padding=\"same\",use_bias=False))\n",
    "    #model.add(GaussianNoise(1))\n",
    "    #model.add(BatchNormalization(momentum=0.8))\n",
    "    model.add(LeakyReLU(alpha=0.2))\n",
    "    \n",
    "    #model.add(Dropout(0.25))\n",
    "    model.add(Conv2D(512, kernel_size=4, strides=2, padding=\"same\",use_bias=False))\n",
    "    #model.add(GaussianNoise(1))\n",
    "    #model.add(BatchNormalization(momentum=0.8))\n",
    "    model.add(LeakyReLU(alpha=0.2))\n",
    "\n",
    "    #model.add(Dropout(0.25))\n",
    "    model.add(Conv2D(1, kernel_size=4, strides=1, padding=\"valid\",use_bias=False))\n",
    "    model.add(Flatten())\n",
    "    model.add(Activation('linear', dtype = 'float32'))\n",
    "    model.summary()\n",
    "    return model\n",
    "\n"
   ]
  },
  {
   "cell_type": "markdown",
   "metadata": {
    "papermill": {
     "duration": 0.03331,
     "end_time": "2020-09-07T08:26:59.551692",
     "exception": false,
     "start_time": "2020-09-07T08:26:59.518382",
     "status": "completed"
    },
    "tags": []
   },
   "source": [
    "Loading saved images such that training_data % batch_size == 0\n"
   ]
  },
  {
   "cell_type": "code",
   "execution_count": 6,
   "metadata": {
    "execution": {
     "iopub.execute_input": "2020-09-07T08:26:59.627155Z",
     "iopub.status.busy": "2020-09-07T08:26:59.624091Z",
     "iopub.status.idle": "2020-09-07T08:27:03.165186Z",
     "shell.execute_reply": "2020-09-07T08:27:03.164028Z"
    },
    "papermill": {
     "duration": 3.579746,
     "end_time": "2020-09-07T08:27:03.165323",
     "exception": false,
     "start_time": "2020-09-07T08:26:59.585577",
     "status": "completed"
    },
    "tags": []
   },
   "outputs": [],
   "source": [
    "training_data = np.load(DATA_PATH)\n",
    "train_dataset = tf.data.Dataset.from_tensor_slices(training_data[:int(len(training_data)/BATCH_SIZE)*BATCH_SIZE]).shuffle(int(len(training_data)/BATCH_SIZE)*BATCH_SIZE).batch(BATCH_SIZE)\n",
    "training_data = []"
   ]
  },
  {
   "cell_type": "markdown",
   "metadata": {
    "papermill": {
     "duration": 0.035089,
     "end_time": "2020-09-07T08:27:03.235325",
     "exception": false,
     "start_time": "2020-09-07T08:27:03.200236",
     "status": "completed"
    },
    "tags": []
   },
   "source": [
    "Initializing generator and discriminator model"
   ]
  },
  {
   "cell_type": "code",
   "execution_count": 7,
   "metadata": {
    "execution": {
     "iopub.execute_input": "2020-09-07T08:27:03.308712Z",
     "iopub.status.busy": "2020-09-07T08:27:03.307943Z",
     "iopub.status.idle": "2020-09-07T08:27:03.769766Z",
     "shell.execute_reply": "2020-09-07T08:27:03.769219Z"
    },
    "papermill": {
     "duration": 0.49993,
     "end_time": "2020-09-07T08:27:03.769884",
     "exception": false,
     "start_time": "2020-09-07T08:27:03.269954",
     "status": "completed"
    },
    "tags": []
   },
   "outputs": [
    {
     "name": "stdout",
     "output_type": "stream",
     "text": [
      "Model: \"sequential\"\n",
      "_________________________________________________________________\n",
      "Layer (type)                 Output Shape              Param #   \n",
      "=================================================================\n",
      "conv2d (Conv2D)              (None, 32, 32, 64)        3136      \n",
      "_________________________________________________________________\n",
      "leaky_re_lu (LeakyReLU)      (None, 32, 32, 64)        0         \n",
      "_________________________________________________________________\n",
      "conv2d_1 (Conv2D)            (None, 16, 16, 128)       131072    \n",
      "_________________________________________________________________\n",
      "leaky_re_lu_1 (LeakyReLU)    (None, 16, 16, 128)       0         \n",
      "_________________________________________________________________\n",
      "conv2d_2 (Conv2D)            (None, 8, 8, 256)         524288    \n",
      "_________________________________________________________________\n",
      "leaky_re_lu_2 (LeakyReLU)    (None, 8, 8, 256)         0         \n",
      "_________________________________________________________________\n",
      "conv2d_3 (Conv2D)            (None, 4, 4, 512)         2097152   \n",
      "_________________________________________________________________\n",
      "leaky_re_lu_3 (LeakyReLU)    (None, 4, 4, 512)         0         \n",
      "_________________________________________________________________\n",
      "conv2d_4 (Conv2D)            (None, 1, 1, 1)           8192      \n",
      "_________________________________________________________________\n",
      "flatten (Flatten)            (None, 1)                 0         \n",
      "_________________________________________________________________\n",
      "activation (Activation)      (None, 1)                 0         \n",
      "=================================================================\n",
      "Total params: 2,763,840\n",
      "Trainable params: 2,763,840\n",
      "Non-trainable params: 0\n",
      "_________________________________________________________________\n",
      "Model: \"sequential_1\"\n",
      "_________________________________________________________________\n",
      "Layer (type)                 Output Shape              Param #   \n",
      "=================================================================\n",
      "conv2d_transpose (Conv2DTran (None, 4, 4, 512)         1048576   \n",
      "_________________________________________________________________\n",
      "activation_1 (Activation)    (None, 4, 4, 512)         0         \n",
      "_________________________________________________________________\n",
      "conv2d_transpose_1 (Conv2DTr (None, 8, 8, 256)         2097152   \n",
      "_________________________________________________________________\n",
      "activation_2 (Activation)    (None, 8, 8, 256)         0         \n",
      "_________________________________________________________________\n",
      "conv2d_transpose_2 (Conv2DTr (None, 16, 16, 128)       524288    \n",
      "_________________________________________________________________\n",
      "activation_3 (Activation)    (None, 16, 16, 128)       0         \n",
      "_________________________________________________________________\n",
      "conv2d_transpose_3 (Conv2DTr (None, 32, 32, 64)        131072    \n",
      "_________________________________________________________________\n",
      "activation_4 (Activation)    (None, 32, 32, 64)        0         \n",
      "_________________________________________________________________\n",
      "conv2d_transpose_4 (Conv2DTr (None, 64, 64, 3)         3072      \n",
      "_________________________________________________________________\n",
      "activation_5 (Activation)    (None, 64, 64, 3)         0         \n",
      "=================================================================\n",
      "Total params: 3,804,160\n",
      "Trainable params: 3,804,160\n",
      "Non-trainable params: 0\n",
      "_________________________________________________________________\n"
     ]
    }
   ],
   "source": [
    "discriminator = build_discriminator((img_height,img_width,channels))#tf.keras.models.load_model(\"/kaggle/working/face_discriminator.h5\")#\n",
    "generator = build_generator(SEED_SIZE)#tf.keras.models.load_model(\"/kaggle/working/face_generator.h5\")"
   ]
  },
  {
   "cell_type": "markdown",
   "metadata": {
    "papermill": {
     "duration": 0.21037,
     "end_time": "2020-09-07T08:27:04.018020",
     "exception": false,
     "start_time": "2020-09-07T08:27:03.807650",
     "status": "completed"
    },
    "tags": []
   },
   "source": [
    "Define gen and disc loss as well as Adam optimizers"
   ]
  },
  {
   "cell_type": "code",
   "execution_count": 8,
   "metadata": {
    "execution": {
     "iopub.execute_input": "2020-09-07T08:27:04.099099Z",
     "iopub.status.busy": "2020-09-07T08:27:04.097269Z",
     "iopub.status.idle": "2020-09-07T08:27:04.099765Z",
     "shell.execute_reply": "2020-09-07T08:27:04.100226Z"
    },
    "papermill": {
     "duration": 0.046597,
     "end_time": "2020-09-07T08:27:04.100346",
     "exception": false,
     "start_time": "2020-09-07T08:27:04.053749",
     "status": "completed"
    },
    "tags": []
   },
   "outputs": [],
   "source": [
    "def discriminator_loss(real_output,fake_output,penalty):\n",
    "    return tf.reduce_mean(fake_output) - tf.reduce_mean(real_output) + penalty\n",
    "\n",
    "def generator_loss(seed):\n",
    "    fake_images = generator(seed,training=True)\n",
    "    fake_output = discriminator(fake_images,training=True)\n",
    "    return -tf.reduce_mean(fake_output)\n",
    "\n",
    "generator_optimizer = Adam(learning_rate,beta1,beta2) \n",
    "#generator_optimizer = mixed_precision.LossScaleOptimizer(generator_optimizer, loss_scale='dynamic')\n",
    "\n",
    "discriminator_optimizer = Adam(learning_rate,beta1,beta2)\n",
    "#discriminator_optimizer = mixed_precision.LossScaleOptimizer(discriminator_optimizer, loss_scale='dynamic')"
   ]
  },
  {
   "cell_type": "markdown",
   "metadata": {
    "papermill": {
     "duration": 0.034465,
     "end_time": "2020-09-07T08:27:04.169620",
     "exception": false,
     "start_time": "2020-09-07T08:27:04.135155",
     "status": "completed"
    },
    "tags": []
   },
   "source": [
    "Discriminator train dunction"
   ]
  },
  {
   "cell_type": "code",
   "execution_count": 9,
   "metadata": {
    "execution": {
     "iopub.execute_input": "2020-09-07T08:27:04.246402Z",
     "iopub.status.busy": "2020-09-07T08:27:04.245774Z",
     "iopub.status.idle": "2020-09-07T08:27:04.249058Z",
     "shell.execute_reply": "2020-09-07T08:27:04.248586Z"
    },
    "papermill": {
     "duration": 0.045799,
     "end_time": "2020-09-07T08:27:04.249155",
     "exception": false,
     "start_time": "2020-09-07T08:27:04.203356",
     "status": "completed"
    },
    "tags": []
   },
   "outputs": [],
   "source": [
    "@tf.function\n",
    "def train_disc(real_images,seed):\n",
    "    with tf.GradientTape() as disc_tape:\n",
    "        \n",
    "        fake_images = generator(seed,training=True)\n",
    "        real_output = discriminator(real_images,training=True)\n",
    "        fake_output = discriminator(fake_images,training=True)\n",
    "        g_penalty = gradient_penalty(real_images,fake_images)\n",
    "        disc_loss = discriminator_loss(real_output,fake_output,g_penalty)\n",
    "        #scaled_disc_loss = discriminator_optimizer.get_scaled_loss(disc_loss)\n",
    "        \n",
    "        gradients_of_discriminator = disc_tape.gradient(disc_loss, discriminator.trainable_variables)#(scaled_disc_loss, discriminator.trainable_variables)\n",
    "        #gradients_of_discriminator = discriminator_optimizer.get_unscaled_gradients(gradients_of_discriminator)\n",
    "    \n",
    "        discriminator_optimizer.apply_gradients(zip(gradients_of_discriminator, discriminator.trainable_variables))\n",
    "    return tf.reduce_mean(real_output),g_penalty"
   ]
  },
  {
   "cell_type": "markdown",
   "metadata": {
    "papermill": {
     "duration": 0.034233,
     "end_time": "2020-09-07T08:27:04.317947",
     "exception": false,
     "start_time": "2020-09-07T08:27:04.283714",
     "status": "completed"
    },
    "tags": []
   },
   "source": [
    "Function to calculate Gradient Penalty "
   ]
  },
  {
   "cell_type": "code",
   "execution_count": 10,
   "metadata": {
    "execution": {
     "iopub.execute_input": "2020-09-07T08:27:04.395765Z",
     "iopub.status.busy": "2020-09-07T08:27:04.395048Z",
     "iopub.status.idle": "2020-09-07T08:27:04.399173Z",
     "shell.execute_reply": "2020-09-07T08:27:04.398678Z"
    },
    "papermill": {
     "duration": 0.046562,
     "end_time": "2020-09-07T08:27:04.399273",
     "exception": false,
     "start_time": "2020-09-07T08:27:04.352711",
     "status": "completed"
    },
    "tags": []
   },
   "outputs": [],
   "source": [
    "def gradient_penalty(real_images,fake_images):\n",
    "    t = np.random.uniform(size=[BATCH_SIZE, 1, 1, 1], low=0., high=1.).astype(\"float32\")\n",
    "    penalty_images = t* fake_images + (1-t)* real_images\n",
    "    penalty_output = discriminator(penalty_images,training=True)\n",
    "    penalty_grads = tf.gradients(penalty_output, [penalty_images])[0]\n",
    "    slopes = tf.sqrt(1e-8 + tf.reduce_sum(tf.square(penalty_grads), axis=[1, 2, 3]))\n",
    "    gradient_penalty = tf.reduce_mean((slopes - 1.) ** 2)            \n",
    "    gradient_penalty = gradient_penalty * 10\n",
    "    \n",
    "    return gradient_penalty\n"
   ]
  },
  {
   "cell_type": "markdown",
   "metadata": {
    "papermill": {
     "duration": 0.035112,
     "end_time": "2020-09-07T08:27:04.468678",
     "exception": false,
     "start_time": "2020-09-07T08:27:04.433566",
     "status": "completed"
    },
    "tags": []
   },
   "source": [
    "Generator train function\n"
   ]
  },
  {
   "cell_type": "code",
   "execution_count": 11,
   "metadata": {
    "execution": {
     "iopub.execute_input": "2020-09-07T08:27:04.544238Z",
     "iopub.status.busy": "2020-09-07T08:27:04.543635Z",
     "iopub.status.idle": "2020-09-07T08:27:04.547935Z",
     "shell.execute_reply": "2020-09-07T08:27:04.547435Z"
    },
    "papermill": {
     "duration": 0.045127,
     "end_time": "2020-09-07T08:27:04.548026",
     "exception": false,
     "start_time": "2020-09-07T08:27:04.502899",
     "status": "completed"
    },
    "tags": []
   },
   "outputs": [],
   "source": [
    "@tf.function\n",
    "def train_gen(seed):\n",
    "    with tf.GradientTape() as gen_tape:\n",
    "        gen_loss = generator_loss(seed)\n",
    "        \n",
    "        gradients_of_generator = gen_tape.gradient(gen_loss, generator.trainable_variables)#(scaled_gen_loss, generator.trainable_variables)\n",
    "        #gradients_of_generator = generator_optimizer.get_unscaled_gradients(gradients_of_generator) \n",
    "        \n",
    "        #scaled_gen_loss = generator_optimizer.get_scaled_loss(gen_loss)\n",
    "        generator_optimizer.apply_gradients(zip(gradients_of_generator, generator.trainable_variables))\n",
    "    \n",
    "    return tf.reduce_mean(gen_loss)"
   ]
  },
  {
   "cell_type": "markdown",
   "metadata": {
    "papermill": {
     "duration": 0.033676,
     "end_time": "2020-09-07T08:27:04.650128",
     "exception": false,
     "start_time": "2020-09-07T08:27:04.616452",
     "status": "completed"
    },
    "tags": []
   },
   "source": [
    "Training Loop\n"
   ]
  },
  {
   "cell_type": "code",
   "execution_count": 12,
   "metadata": {
    "execution": {
     "iopub.execute_input": "2020-09-07T08:27:04.733539Z",
     "iopub.status.busy": "2020-09-07T08:27:04.732252Z",
     "iopub.status.idle": "2020-09-07T08:27:04.735431Z",
     "shell.execute_reply": "2020-09-07T08:27:04.734947Z"
    },
    "papermill": {
     "duration": 0.050638,
     "end_time": "2020-09-07T08:27:04.735528",
     "exception": false,
     "start_time": "2020-09-07T08:27:04.684890",
     "status": "completed"
    },
    "tags": []
   },
   "outputs": [],
   "source": [
    "def train(dataset, epochs):\n",
    "  start = time.time()\n",
    "  for epoch in range(epochs):\n",
    "    epoch_start = time.time()\n",
    "\n",
    "    gen_loss_list = []\n",
    "    disc_loss_list = []\n",
    "    penalty_list = []\n",
    "\n",
    "    for i,image_batch in enumerate(dataset):\n",
    "      seed = np.random.normal(size=[BATCH_SIZE,1,1, SEED_SIZE]).astype(\"float32\")\n",
    "      disc_loss, penalty = train_disc(image_batch,seed)\n",
    "      disc_loss_list.append(disc_loss)\n",
    "      penalty_list.append(penalty)\n",
    "\n",
    "      \n",
    "      if i % n_critic == 0:\n",
    "        gen_loss = train_gen(seed)\n",
    "        gen_loss_list.append(gen_loss)\n",
    "       \n",
    "      \n",
    "    g_loss = sum(gen_loss_list) / len(gen_loss_list)\n",
    "    d_loss = sum(disc_loss_list) / len(disc_loss_list)\n",
    "    penalty = sum(penalty_list) / len(penalty_list)\n",
    "    \n",
    "    if epoch%20 == 0:\n",
    "        \n",
    "        generator.save(os.path.join(SAVE_PATH,\"face_generator.h5\"))\n",
    "        discriminator.save(os.path.join(SAVE_PATH,\"face_discriminator.h5\"))\n",
    "\n",
    "    epoch_elapsed = time.time()-epoch_start\n",
    "    print (f'Epoch {epoch+1}, fake output={g_loss},real output={d_loss}, penalty = {penalty}, {hms_string(epoch_elapsed)}')\n",
    "        \n",
    "\n",
    "  elapsed = time.time()-start\n",
    "  print (f'Training time: {(elapsed)}')"
   ]
  },
  {
   "cell_type": "markdown",
   "metadata": {
    "papermill": {
     "duration": 0.034692,
     "end_time": "2020-09-07T08:27:04.804673",
     "exception": false,
     "start_time": "2020-09-07T08:27:04.769981",
     "status": "completed"
    },
    "tags": []
   },
   "source": [
    "Run training save model"
   ]
  },
  {
   "cell_type": "code",
   "execution_count": 13,
   "metadata": {
    "execution": {
     "iopub.execute_input": "2020-09-07T08:27:04.880483Z",
     "iopub.status.busy": "2020-09-07T08:27:04.879886Z",
     "iopub.status.idle": "2020-09-07T08:40:33.580731Z",
     "shell.execute_reply": "2020-09-07T08:40:33.581383Z"
    },
    "papermill": {
     "duration": 808.741345,
     "end_time": "2020-09-07T08:40:33.581570",
     "exception": false,
     "start_time": "2020-09-07T08:27:04.840225",
     "status": "completed"
    },
    "tags": []
   },
   "outputs": [
    {
     "name": "stdout",
     "output_type": "stream",
     "text": [
      "Epoch 1, fake output=-7.92943811416626,real output=167.44056701660156, penalty = 54.985130310058594, 0:00:23.89\n",
      "Epoch 2, fake output=-3.940338611602783,real output=193.9137420654297, penalty = 69.2217025756836, 0:00:16.11\n",
      "Epoch 3, fake output=-11.39401626586914,real output=210.32044982910156, penalty = 72.47277069091797, 0:00:15.90\n",
      "Epoch 4, fake output=-29.39552116394043,real output=227.48928833007812, penalty = 72.10052490234375, 0:00:16.19\n",
      "Epoch 5, fake output=-55.8782958984375,real output=245.45880126953125, penalty = 68.52742004394531, 0:00:16.42\n",
      "Epoch 6, fake output=-76.85504913330078,real output=231.30796813964844, penalty = 53.56172561645508, 0:00:15.81\n",
      "Epoch 7, fake output=-68.49180603027344,real output=200.51734924316406, penalty = 43.677703857421875, 0:00:15.79\n",
      "Epoch 8, fake output=-68.20756530761719,real output=191.98728942871094, penalty = 40.379600524902344, 0:00:16.21\n",
      "Epoch 9, fake output=-63.08382034301758,real output=179.96966552734375, penalty = 37.35933303833008, 0:00:15.81\n",
      "Epoch 10, fake output=-56.39255142211914,real output=166.0360565185547, penalty = 34.607933044433594, 0:00:15.91\n",
      "Epoch 11, fake output=-50.62068176269531,real output=154.03477478027344, penalty = 32.604026794433594, 0:00:15.92\n",
      "Epoch 12, fake output=-44.65251541137695,real output=146.94827270507812, penalty = 31.880252838134766, 0:00:15.73\n",
      "Epoch 13, fake output=-38.381736755371094,real output=138.94781494140625, penalty = 30.639883041381836, 0:00:15.84\n",
      "Epoch 14, fake output=-34.66281509399414,real output=131.68316650390625, penalty = 30.2430477142334, 0:00:15.70\n",
      "Epoch 15, fake output=-33.30925369262695,real output=129.67306518554688, penalty = 29.681175231933594, 0:00:15.82\n",
      "Epoch 16, fake output=-29.641117095947266,real output=123.92083740234375, penalty = 29.027565002441406, 0:00:15.82\n",
      "Epoch 17, fake output=-25.137250900268555,real output=116.75732421875, penalty = 28.344736099243164, 0:00:16.15\n",
      "Epoch 18, fake output=-22.558059692382812,real output=113.62049865722656, penalty = 27.72806167602539, 0:00:15.79\n",
      "Epoch 19, fake output=-19.826078414916992,real output=109.81822204589844, penalty = 27.214468002319336, 0:00:15.99\n",
      "Epoch 20, fake output=-17.560787200927734,real output=104.7995376586914, penalty = 26.568349838256836, 0:00:16.34\n",
      "Epoch 21, fake output=-17.58019256591797,real output=104.90829467773438, penalty = 25.832304000854492, 0:00:16.02\n",
      "Epoch 22, fake output=-14.710331916809082,real output=97.78520202636719, penalty = 24.919246673583984, 0:00:15.87\n",
      "Epoch 23, fake output=-13.403055191040039,real output=95.91514587402344, penalty = 24.31375503540039, 0:00:16.13\n",
      "Epoch 24, fake output=-13.129610061645508,real output=93.89551544189453, penalty = 23.5528507232666, 0:00:16.01\n",
      "Epoch 25, fake output=-11.637185096740723,real output=90.73785400390625, penalty = 22.875001907348633, 0:00:15.83\n",
      "Epoch 26, fake output=-11.388694763183594,real output=88.16476440429688, penalty = 22.271615982055664, 0:00:15.91\n",
      "Epoch 27, fake output=-9.695393562316895,real output=84.99981689453125, penalty = 21.705963134765625, 0:00:15.83\n",
      "Epoch 28, fake output=-8.812644958496094,real output=82.90298461914062, penalty = 21.179920196533203, 0:00:16.34\n",
      "Epoch 29, fake output=-9.321484565734863,real output=80.3741683959961, penalty = 20.387226104736328, 0:00:16.08\n",
      "Epoch 30, fake output=-6.857929229736328,real output=77.30713653564453, penalty = 19.749723434448242, 0:00:16.11\n",
      "Epoch 31, fake output=-5.909135818481445,real output=75.83763122558594, penalty = 19.227676391601562, 0:00:15.87\n",
      "Epoch 32, fake output=-6.24913215637207,real output=73.18102264404297, penalty = 18.664697647094727, 0:00:15.82\n",
      "Epoch 33, fake output=-4.121443748474121,real output=69.85394287109375, penalty = 18.200546264648438, 0:00:15.76\n",
      "Epoch 34, fake output=-4.371655464172363,real output=69.6673812866211, penalty = 17.867685317993164, 0:00:15.84\n",
      "Epoch 35, fake output=-2.041426181793213,real output=66.4114990234375, penalty = 17.510555267333984, 0:00:16.17\n",
      "Epoch 36, fake output=-1.5757049322128296,real output=63.385276794433594, penalty = 17.276111602783203, 0:00:15.84\n",
      "Epoch 37, fake output=-0.9188177585601807,real output=62.67086410522461, penalty = 16.880826950073242, 0:00:15.84\n",
      "Epoch 38, fake output=-1.2478426694869995,real output=63.13008499145508, penalty = 16.471193313598633, 0:00:15.69\n",
      "Epoch 39, fake output=-1.8846735954284668,real output=61.12272644042969, penalty = 16.146657943725586, 0:00:16.54\n",
      "Epoch 40, fake output=-1.397667407989502,real output=59.96504592895508, penalty = 15.897286415100098, 0:00:15.94\n",
      "Epoch 41, fake output=-3.7775936126708984,real output=61.60908508300781, penalty = 15.640901565551758, 0:00:16.10\n",
      "Epoch 42, fake output=-3.3405323028564453,real output=60.66826629638672, penalty = 15.474276542663574, 0:00:15.78\n",
      "Epoch 43, fake output=-3.435959577560425,real output=60.18888854980469, penalty = 15.096031188964844, 0:00:15.89\n",
      "Epoch 44, fake output=-3.975625991821289,real output=60.29020309448242, penalty = 14.877097129821777, 0:00:15.91\n",
      "Epoch 45, fake output=-3.021026849746704,real output=58.8148307800293, penalty = 14.620420455932617, 0:00:15.72\n",
      "Epoch 46, fake output=-1.979516625404358,real output=57.56694030761719, penalty = 14.239365577697754, 0:00:15.76\n",
      "Epoch 47, fake output=-2.105214834213257,real output=55.67012405395508, penalty = 13.8665771484375, 0:00:15.88\n",
      "Epoch 48, fake output=-1.569190263748169,real output=55.17694854736328, penalty = 13.763822555541992, 0:00:15.97\n",
      "Epoch 49, fake output=-1.6056492328643799,real output=54.15730285644531, penalty = 13.482542037963867, 0:00:15.73\n",
      "Epoch 50, fake output=-1.0790393352508545,real output=53.07589340209961, penalty = 13.19804859161377, 0:00:16.25\n",
      "Training time: 808.5767068862915\n",
      "128\n"
     ]
    }
   ],
   "source": [
    "train(train_dataset,EPOCHS)\n",
    "generator.save(os.path.join(SAVE_PATH,\"face_generator.h5\"))\n",
    "discriminator.save(os.path.join(SAVE_PATH,\"face_discriminator.h5\"))\n",
    "print(SEED_SIZE)"
   ]
  },
  {
   "cell_type": "markdown",
   "metadata": {
    "papermill": {
     "duration": 0.036874,
     "end_time": "2020-09-07T08:40:33.655137",
     "exception": false,
     "start_time": "2020-09-07T08:40:33.618263",
     "status": "completed"
    },
    "tags": []
   },
   "source": [
    "Display Random generated image"
   ]
  },
  {
   "cell_type": "code",
   "execution_count": 14,
   "metadata": {
    "execution": {
     "iopub.execute_input": "2020-09-07T08:40:33.735498Z",
     "iopub.status.busy": "2020-09-07T08:40:33.734632Z",
     "iopub.status.idle": "2020-09-07T08:40:34.259400Z",
     "shell.execute_reply": "2020-09-07T08:40:34.258131Z"
    },
    "papermill": {
     "duration": 0.56778,
     "end_time": "2020-09-07T08:40:34.259547",
     "exception": false,
     "start_time": "2020-09-07T08:40:33.691767",
     "status": "completed"
    },
    "tags": []
   },
   "outputs": [
    {
     "data": {
      "text/plain": [
       "<matplotlib.image.AxesImage at 0x7ff3c634b7d0>"
      ]
     },
     "execution_count": 14,
     "metadata": {},
     "output_type": "execute_result"
    },
    {
     "data": {
      "image/png": "[encoded data removed]",
      "text/plain": [
       "<Figure size 432x288 with 1 Axes>"
      ]
     },
     "metadata": {
      "needs_background": "light"
     },
     "output_type": "display_data"
    }
   ],
   "source": [
    "noise = tf.random.normal([1,1,1, 128])\n",
    "generator = tf.keras.models.load_model(os.path.join(SAVE_PATH,\"face_generator.h5\"))\n",
    "generated_image = generator.predict(noise)\n",
    "generated_image = (generated_image + 1) * 127.5\n",
    "plt.imshow(np.squeeze(generated_image).astype('uint8'))"
   ]
  }
 ],
 "metadata": {
  "kernelspec": {
   "display_name": "Python 3",
   "language": "python",
   "name": "python3"
  },
  "language_info": {
   "codemirror_mode": {
    "name": "ipython",
    "version": 3
   },
   "file_extension": ".py",
   "mimetype": "text/x-python",
   "name": "python",
   "nbconvert_exporter": "python",
   "pygments_lexer": "ipython3",
   "version": "3.7.6"
  },
  "papermill": {
   "duration": 885.131694,
   "end_time": "2020-09-07T08:40:35.578992",
   "environment_variables": {},
   "exception": null,
   "input_path": "__notebook__.ipynb",
   "output_path": "__notebook__.ipynb",
   "parameters": {},
   "start_time": "2020-09-07T08:25:50.447298",
   "version": "2.1.0"
  }
 },
 "nbformat": 4,
 "nbformat_minor": 4
}